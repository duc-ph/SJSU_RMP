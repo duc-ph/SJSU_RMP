{
 "cells": [
  {
   "cell_type": "code",
   "execution_count": 52,
   "metadata": {},
   "outputs": [],
   "source": [
    "import requests\n",
    "from bs4 import BeautifulSoup\n",
    "from tenacity import retry, stop_after_attempt, wait_fixed\n",
    "import re\n",
    "from tqdm import tqdm\n",
    "import json\n",
    "import base64\n",
    "import csv"
   ]
  },
  {
   "cell_type": "markdown",
   "metadata": {},
   "source": [
    "## Get the list of all teachers"
   ]
  },
  {
   "cell_type": "code",
   "execution_count": 2,
   "metadata": {},
   "outputs": [],
   "source": [
    "url = \"https://www.sjsu.edu/people/\"\n",
    "# Fetch the content of the webpage\n",
    "response = requests.get(url)\n",
    "\n",
    "# Parse the HTML content using BeautifulSoup\n",
    "soup = BeautifulSoup(response.text, 'html.parser')\n",
    "\n",
    "# Regular expression pattern to match href=\"/people/...\"\n",
    "pattern = re.compile(r'^/people/.*')\n",
    "\n",
    "# Find all 'a' tags with href attribute matching the pattern\n",
    "people_hrefs = []\n",
    "for a_tag in soup.find_all('a', href=pattern):\n",
    "    people_hrefs.append(a_tag['href'])"
   ]
  },
  {
   "cell_type": "code",
   "execution_count": 3,
   "metadata": {},
   "outputs": [
    {
     "data": {
      "text/plain": [
       "1435"
      ]
     },
     "execution_count": 3,
     "metadata": {},
     "output_type": "execute_result"
    }
   ],
   "source": [
    "len(people_hrefs)"
   ]
  },
  {
   "cell_type": "code",
   "execution_count": 4,
   "metadata": {},
   "outputs": [
    {
     "data": {
      "text/plain": [
       "['/people/',\n",
       " '/people/Fatemeh.Davoudi',\n",
       " '/people/denise.dawkins',\n",
       " '/people/aharon.degrassi',\n",
       " '/people/jane.dodge',\n",
       " '/people/david.dodick',\n",
       " '/people/isarin.durongkadej',\n",
       " '/people/xiaojia.hou',\n",
       " '/people/gaojian.huang',\n",
       " '/people/yinghua.huang',\n",
       " '/people/adam.svec',\n",
       " '/people/gabrielajohn.swamy',\n",
       " '/people/neil.switz',\n",
       " '/people/wendy.thompsontaiwo',\n",
       " '/people/chingching.tan',\n",
       " '/people/ravindra.thadani',\n",
       " '/people/megan.thiele',\n",
       " '/people/babu.thomas',\n",
       " '/people/glenn.thomas']"
      ]
     },
     "execution_count": 4,
     "metadata": {},
     "output_type": "execute_result"
    }
   ],
   "source": [
    "[x for x in people_hrefs if len(x.split('/')) < 4]"
   ]
  },
  {
   "cell_type": "code",
   "execution_count": 5,
   "metadata": {},
   "outputs": [],
   "source": [
    "people_hrefs.remove('/people/')"
   ]
  },
  {
   "cell_type": "markdown",
   "metadata": {},
   "source": [
    "## Get their RMP profile"
   ]
  },
  {
   "cell_type": "code",
   "execution_count": 10,
   "metadata": {},
   "outputs": [],
   "source": [
    "@retry(stop=stop_after_attempt(3), wait=wait_fixed(5))\n",
    "def get_first_teacher_result(text):\n",
    "    url = 'https://www.ratemyprofessors.com/graphql'\n",
    "    headers = {\n",
    "        'Content-Type': 'application/json',\n",
    "        'Authorization': 'Basic dGVzdDp0ZXN0',\n",
    "    }\n",
    "    \n",
    "    query = \"\"\"\n",
    "    query NewSearchTeachersQuery($query: TeacherSearchQuery!, $count: Int) {\n",
    "      newSearch {\n",
    "        teachers(query: $query, first: $count) {\n",
    "          edges {\n",
    "            node {\n",
    "              legacyId\n",
    "              firstName\n",
    "              lastName\n",
    "              avgRating\n",
    "              numRatings\n",
    "              school {\n",
    "                legacyId\n",
    "                name\n",
    "              }\n",
    "            }\n",
    "          }\n",
    "        }\n",
    "      }\n",
    "    }\n",
    "    \"\"\"\n",
    "    \n",
    "    variables = {\n",
    "        \"query\": {\n",
    "            \"text\": text,\n",
    "            \"schoolID\": \"U2Nob29sLTg4MQ==\"\n",
    "        },\n",
    "        \"count\": 1\n",
    "    }\n",
    "    \n",
    "    response = requests.post(url, headers=headers, json={\"query\": query, \"variables\": variables}, timeout=10)\n",
    "    \n",
    "    if response.status_code == 200:\n",
    "        data = response.json()\n",
    "        edges = data.get('data', {}).get('newSearch', {}).get('teachers', {}).get('edges', [])\n",
    "        if edges:\n",
    "            teacher = edges[0]['node']\n",
    "            return {\n",
    "                'legacyId': teacher['legacyId'],\n",
    "                'firstName': teacher['firstName'],\n",
    "                'lastName': teacher['lastName'],\n",
    "                'avgRating': teacher['avgRating'],\n",
    "                'numRatings': teacher['numRatings'],\n",
    "                'schoolName': teacher['school']['name']\n",
    "            }\n",
    "        else:\n",
    "            return None\n",
    "    else:\n",
    "        response.raise_for_status()"
   ]
  },
  {
   "cell_type": "code",
   "execution_count": 11,
   "metadata": {},
   "outputs": [
    {
     "name": "stderr",
     "output_type": "stream",
     "text": [
      "100%|██████████| 1434/1434 [08:23<00:00,  2.85it/s]\n"
     ]
    }
   ],
   "source": [
    "ok_teachers = {}\n",
    "err_teachers = []\n",
    "for href in tqdm(people_hrefs):\n",
    "    name = href.split('/')[2].replace('.', ' ')\n",
    "    response = get_first_teacher_result(name)\n",
    "    if (response \n",
    "        and response['schoolName'] == 'San Jose State University'\n",
    "        and response['firstName'].lower() in name\n",
    "        and response['lastName'].lower() in name\n",
    "    ):\n",
    "        del response['schoolName']\n",
    "        ok_teachers[name] = response\n",
    "    else:\n",
    "        err_teachers.append(name)\n",
    "    "
   ]
  },
  {
   "cell_type": "code",
   "execution_count": 32,
   "metadata": {},
   "outputs": [],
   "source": [
    "with open('teacher_data/20240827_auto_match.json', 'w') as f:\n",
    "    json.dump(ok_teachers, f)"
   ]
  },
  {
   "cell_type": "code",
   "execution_count": 19,
   "metadata": {},
   "outputs": [],
   "source": [
    "with open('teacher_data/20240827_sjsu_people_hrefs.txt', 'w') as f:\n",
    "    for href in people_hrefs:\n",
    "        f.write(f'{href}\\n')"
   ]
  },
  {
   "cell_type": "markdown",
   "metadata": {},
   "source": [
    "## Get information for the teachers that failed to match automatically"
   ]
  },
  {
   "cell_type": "markdown",
   "metadata": {},
   "source": [
    "There are some teachers that we can't match automatically, they are in `err_teachers`. I have manually mapped them, the result is in the file `20240827_manual_match.csv`."
   ]
  },
  {
   "cell_type": "code",
   "execution_count": 51,
   "metadata": {},
   "outputs": [],
   "source": [
    "name_id_list = []\n",
    "\n",
    "with open('teacher_data/20240827_manual_match.csv', 'r') as csvfile:\n",
    "    reader = csv.reader(csvfile, delimiter=',')\n",
    "    next(reader)  # Skip the header row\n",
    "\n",
    "    for row in reader:\n",
    "        name, rmp_id = row\n",
    "        if rmp_id:  # Only add to the list if rmp_id is not empty\n",
    "            rmp_id = int(rmp_id)\n",
    "            name_id_list.append((name, rmp_id))"
   ]
  },
  {
   "cell_type": "code",
   "execution_count": 56,
   "metadata": {},
   "outputs": [],
   "source": [
    "@retry(stop=stop_after_attempt(3), wait=wait_fixed(5))\n",
    "def get_teacher_info(legacy_id):\n",
    "    url = 'https://www.ratemyprofessors.com/graphql'\n",
    "    headers = {\n",
    "        'Content-Type': 'application/json',\n",
    "        'Authorization': 'Basic dGVzdDp0ZXN0',\n",
    "    }\n",
    "    \n",
    "    # Encode the legacyId as Base64\n",
    "    encoded_id = base64.b64encode(f'Teacher-{legacy_id}'.encode()).decode()\n",
    "    \n",
    "    query = \"\"\"\n",
    "    query TeacherRatingsPageQuery($id: ID!) {\n",
    "      node(id: $id) {\n",
    "        ... on Teacher {\n",
    "          legacyId\n",
    "          firstName\n",
    "          lastName\n",
    "          avgRating\n",
    "          numRatings\n",
    "        }\n",
    "      }\n",
    "    }\n",
    "    \"\"\"\n",
    "    \n",
    "    variables = {\n",
    "        \"id\": encoded_id\n",
    "    }\n",
    "    \n",
    "    response = requests.post(url, headers=headers, json={\"query\": query, \"variables\": variables})\n",
    "    \n",
    "    if response.status_code == 200:\n",
    "        data = response.json()\n",
    "        teacher_info = data.get('data', {}).get('node', {})\n",
    "        if teacher_info:\n",
    "            return {\n",
    "                'legacyId': teacher_info['legacyId'],\n",
    "                'firstName': teacher_info['firstName'],\n",
    "                'lastName': teacher_info['lastName'],\n",
    "                'avgRating': teacher_info.get('avgRating', 'N/A'),\n",
    "                'numRatings': teacher_info.get('numRatings', 'N/A')\n",
    "            }\n",
    "        else:\n",
    "            return None\n",
    "    else:\n",
    "        response.raise_for_status()\n"
   ]
  },
  {
   "cell_type": "code",
   "execution_count": 59,
   "metadata": {},
   "outputs": [
    {
     "name": "stderr",
     "output_type": "stream",
     "text": [
      "100%|██████████| 144/144 [00:44<00:00,  3.20it/s]\n"
     ]
    }
   ],
   "source": [
    "manual_teachers = {}\n",
    "for name, rmp_id in tqdm(name_id_list):\n",
    "    response = get_teacher_info(rmp_id)\n",
    "    manual_teachers[name] = response"
   ]
  },
  {
   "cell_type": "code",
   "execution_count": 62,
   "metadata": {},
   "outputs": [],
   "source": [
    "all_teachers = {**ok_teachers, **manual_teachers}"
   ]
  },
  {
   "cell_type": "code",
   "execution_count": null,
   "metadata": {},
   "outputs": [
    {
     "data": {
      "text/plain": [
       "1226"
      ]
     },
     "metadata": {},
     "output_type": "display_data"
    }
   ],
   "source": [
    "len(all_teachers)"
   ]
  },
  {
   "cell_type": "code",
   "execution_count": null,
   "metadata": {},
   "outputs": [
    {
     "data": {
      "text/plain": [
       "1226"
      ]
     },
     "metadata": {},
     "output_type": "display_data"
    }
   ],
   "source": [
    "len(ok_teachers) + len(manual_teachers)"
   ]
  },
  {
   "cell_type": "code",
   "execution_count": 64,
   "metadata": {},
   "outputs": [],
   "source": [
    "with open('teacher_data/20240827_all_teachers_current.json', 'w') as f:\n",
    "    json.dump(all_teachers, f)"
   ]
  }
 ],
 "metadata": {
  "kernelspec": {
   "display_name": "Python 3",
   "language": "python",
   "name": "python3"
  },
  "language_info": {
   "codemirror_mode": {
    "name": "ipython",
    "version": 3
   },
   "file_extension": ".py",
   "mimetype": "text/x-python",
   "name": "python",
   "nbconvert_exporter": "python",
   "pygments_lexer": "ipython3",
   "version": "3.11.9"
  }
 },
 "nbformat": 4,
 "nbformat_minor": 2
}
