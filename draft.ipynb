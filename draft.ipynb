{
 "cells": [
  {
   "cell_type": "code",
   "execution_count": 1,
   "metadata": {},
   "outputs": [],
   "source": [
    "import requests\n",
    "\n",
    "def get_first_teacher_result(text):\n",
    "    url = 'https://www.ratemyprofessors.com/graphql'\n",
    "    headers = {\n",
    "        'Content-Type': 'application/json',\n",
    "        'Authorization': 'Basic dGVzdDp0ZXN0',\n",
    "    }\n",
    "    \n",
    "    query = \"\"\"\n",
    "    query NewSearchTeachersQuery($query: TeacherSearchQuery!, $count: Int) {\n",
    "      newSearch {\n",
    "        teachers(query: $query, first: $count) {\n",
    "          edges {\n",
    "            node {\n",
    "              legacyId\n",
    "              firstName\n",
    "              lastName\n",
    "              avgRating\n",
    "              numRatings\n",
    "              school {\n",
    "                legacyId\n",
    "                name\n",
    "              }\n",
    "            }\n",
    "          }\n",
    "        }\n",
    "      }\n",
    "    }\n",
    "    \"\"\"\n",
    "    \n",
    "    variables = {\n",
    "        \"query\": {\n",
    "            \"text\": text,\n",
    "            \"schoolID\": \"U2Nob29sLTg4MQ==\"\n",
    "        },\n",
    "        \"count\": 1  # We're only interested in the first result\n",
    "    }\n",
    "    \n",
    "    response = requests.post(url, headers=headers, json={\"query\": query, \"variables\": variables})\n",
    "    \n",
    "    if response.status_code == 200:\n",
    "        data = response.json()\n",
    "        edges = data.get('data', {}).get('newSearch', {}).get('teachers', {}).get('edges', [])\n",
    "        if edges:\n",
    "            teacher = edges[0]['node']\n",
    "            return {\n",
    "                'legacyId': teacher['legacyId'],\n",
    "                'firstName': teacher['firstName'],\n",
    "                'lastName': teacher['lastName'],\n",
    "                'avgRating': teacher['avgRating'],\n",
    "                'numRatings': teacher['numRatings'],\n",
    "                'schoolName': teacher['school']['name'],\n",
    "                'schoolLegacyId': teacher['school']['legacyId'],\n",
    "            }\n",
    "        else:\n",
    "            return None\n",
    "    else:\n",
    "        response.raise_for_status()"
   ]
  },
  {
   "cell_type": "code",
   "execution_count": 7,
   "metadata": {},
   "outputs": [
    {
     "data": {
      "text/plain": [
       "{'legacyId': 1209164,\n",
       " 'firstName': 'Greg',\n",
       " 'lastName': 'Hanle',\n",
       " 'avgRating': 4.5,\n",
       " 'numRatings': 32,\n",
       " 'schoolName': 'San Jose State University',\n",
       " 'schoolLegacyId': 881}"
      ]
     },
     "execution_count": 7,
     "metadata": {},
     "output_type": "execute_result"
    }
   ],
   "source": [
    "get_first_teacher_result('yoonchung han')"
   ]
  }
 ],
 "metadata": {
  "kernelspec": {
   "display_name": "rmp",
   "language": "python",
   "name": "python3"
  },
  "language_info": {
   "codemirror_mode": {
    "name": "ipython",
    "version": 3
   },
   "file_extension": ".py",
   "mimetype": "text/x-python",
   "name": "python",
   "nbconvert_exporter": "python",
   "pygments_lexer": "ipython3",
   "version": "3.11.9"
  }
 },
 "nbformat": 4,
 "nbformat_minor": 2
}
