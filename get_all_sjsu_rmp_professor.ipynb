{
 "cells": [
  {
   "cell_type": "code",
   "execution_count": 2,
   "metadata": {},
   "outputs": [],
   "source": [
    "import requests\n",
    "import json\n",
    "\n",
    "def make_rmp_query(payload):\n",
    "    # URL for the GraphQL endpoint\n",
    "    url = 'https://www.ratemyprofessors.com/graphql'\n",
    "\n",
    "    # Headers for the request\n",
    "    headers = {\n",
    "        'Content-Type': 'application/json',\n",
    "        'Authorization': 'Basic dGVzdDp0ZXN0',\n",
    "    }\n",
    "\n",
    "    # The payload for the GraphQL query\n",
    "    # Convert the payload to JSON\n",
    "    json_payload = json.dumps(payload)\n",
    "\n",
    "    # Making the POST request\n",
    "    response = requests.post(url, headers=headers, data=json_payload, timeout=10)\n",
    "    return response.json()\n"
   ]
  },
  {
   "cell_type": "code",
   "execution_count": 3,
   "metadata": {},
   "outputs": [
    {
     "name": "stdout",
     "output_type": "stream",
     "text": [
      "1000\n",
      "1000\n",
      "1000\n",
      "1000\n",
      "682\n"
     ]
    }
   ],
   "source": [
    "all_teachers = {}\n",
    "omitted_teachers = []\n",
    "\n",
    "hasNextPage = True\n",
    "end_cursor = ''\n",
    "\n",
    "while hasNextPage:\n",
    "    payload = {\n",
    "      \"query\": \"query TeacherSearchPaginationQuery(\\n  $count: Int!\\n  $cursor: String\\n  $query: TeacherSearchQuery!\\n) {\\n  search: newSearch {\\n    ...TeacherSearchPagination_search_1jWD3d\\n  }\\n}\\n\\nfragment TeacherSearchPagination_search_1jWD3d on newSearch {\\n  teachers(query: $query, first: $count, after: $cursor) {\\n    didFallback\\n    edges {\\n      cursor\\n      node {\\n        ...TeacherCard_teacher\\n        id\\n        __typename\\n      }\\n    }\\n    pageInfo {\\n      hasNextPage\\n      endCursor\\n    }\\n    resultCount\\n    filters {\\n      field\\n      options {\\n        value\\n        id\\n      }\\n    }\\n  }\\n}\\n\\nfragment TeacherCard_teacher on Teacher {\\n  id\\n  legacyId\\n  avgRating\\n  numRatings\\n  ...CardFeedback_teacher\\n  ...CardSchool_teacher\\n  ...CardName_teacher\\n  ...TeacherBookmark_teacher\\n}\\n\\nfragment CardFeedback_teacher on Teacher {\\n  wouldTakeAgainPercent\\n  avgDifficulty\\n}\\n\\nfragment CardSchool_teacher on Teacher {\\n  department\\n  school {\\n    name\\n    id\\n  }\\n}\\n\\nfragment CardName_teacher on Teacher {\\n  firstName\\n  lastName\\n}\\n\\nfragment TeacherBookmark_teacher on Teacher {\\n  id\\n  isSaved\\n}\\n\",\n",
    "      \"variables\": {\n",
    "        \"count\": 1000,\n",
    "        \"cursor\": end_cursor,\n",
    "        \"query\": {\n",
    "          \"text\": \"\",\n",
    "          \"schoolID\": \"U2Nob29sLTg4MQ==\",\n",
    "          \"fallback\": True\n",
    "        }\n",
    "      }\n",
    "    }\n",
    "    data = make_rmp_query(payload)\n",
    "\n",
    "    print(len(data['data']['search']['teachers']['edges']))\n",
    "    for teacher in data['data']['search']['teachers']['edges']:\n",
    "        teacher = teacher['node']\n",
    "        del teacher['__typename']\n",
    "        teacher_name = f\"{teacher['firstName']} {teacher['lastName']}\"\n",
    "        if teacher_name not in all_teachers:\n",
    "            all_teachers[teacher_name] = teacher\n",
    "        else:\n",
    "            existing = all_teachers[teacher_name]\n",
    "            if teacher['numRatings'] > existing['numRatings']:\n",
    "                omitted_teachers.append(existing)\n",
    "                all_teachers[teacher_name] = teacher\n",
    "            else:\n",
    "                omitted_teachers.append(teacher)\n",
    "\n",
    "    end_cursor = data['data']['search']['teachers']['pageInfo']['endCursor']\n",
    "    hasNextPage = data['data']['search']['teachers']['pageInfo']['hasNextPage']"
   ]
  },
  {
   "cell_type": "code",
   "execution_count": 4,
   "metadata": {},
   "outputs": [
    {
     "data": {
      "text/plain": [
       "4596"
      ]
     },
     "execution_count": 4,
     "metadata": {},
     "output_type": "execute_result"
    }
   ],
   "source": [
    "len(all_teachers)"
   ]
  },
  {
   "cell_type": "code",
   "execution_count": 5,
   "metadata": {},
   "outputs": [
    {
     "data": {
      "text/plain": [
       "86"
      ]
     },
     "execution_count": 5,
     "metadata": {},
     "output_type": "execute_result"
    }
   ],
   "source": [
    "len(omitted_teachers)"
   ]
  },
  {
   "cell_type": "code",
   "execution_count": 6,
   "metadata": {},
   "outputs": [],
   "source": [
    "omitted_teacher_dict = {}\n",
    "for teacher in omitted_teachers:\n",
    "    teacher_name = f\"{teacher['firstName']} {teacher['lastName']}\"\n",
    "    omitted_teacher_dict[teacher_name] = teacher"
   ]
  },
  {
   "cell_type": "code",
   "execution_count": 7,
   "metadata": {},
   "outputs": [
    {
     "data": {
      "text/plain": [
       "'20241107'"
      ]
     },
     "execution_count": 7,
     "metadata": {},
     "output_type": "execute_result"
    }
   ],
   "source": [
    "from datetime import datetime\n",
    "\n",
    "# Get today's date in 'yyyymmdd' format\n",
    "today_str = datetime.now().strftime('%Y%m%d')\n",
    "today_str"
   ]
  },
  {
   "cell_type": "code",
   "execution_count": 8,
   "metadata": {},
   "outputs": [],
   "source": [
    "with open(f'teacher_data/{today_str}_all_teachers_current.json', 'w') as f:\n",
    "    json.dump(all_teachers, f)"
   ]
  },
  {
   "cell_type": "code",
   "execution_count": 9,
   "metadata": {},
   "outputs": [],
   "source": [
    "with open(f'teacher_data/{today_str}_omitted_teachers.json', 'w') as f:\n",
    "    json.dump(omitted_teacher_dict, f)"
   ]
  },
  {
   "cell_type": "code",
   "execution_count": null,
   "metadata": {},
   "outputs": [],
   "source": []
  }
 ],
 "metadata": {
  "kernelspec": {
   "display_name": "rmp",
   "language": "python",
   "name": "python3"
  },
  "language_info": {
   "codemirror_mode": {
    "name": "ipython",
    "version": 3
   },
   "file_extension": ".py",
   "mimetype": "text/x-python",
   "name": "python",
   "nbconvert_exporter": "python",
   "pygments_lexer": "ipython3",
   "version": "3.11.9"
  }
 },
 "nbformat": 4,
 "nbformat_minor": 2
}
